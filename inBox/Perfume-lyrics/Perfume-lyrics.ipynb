{
 "cells": [
  {
   "cell_type": "markdown",
   "metadata": {},
   "source": [
    "## xmlパーサのインストール\n",
    "```\n",
    "pip install lxml\n",
    "```"
   ]
  },
  {
   "cell_type": "code",
   "execution_count": 1,
   "metadata": {
    "collapsed": false
   },
   "outputs": [],
   "source": [
    "# -*- coding: utf-8 -*-\n",
    "from __future__ import absolute_import, unicode_literals\n",
    "import requests\n",
    "from bs4 import BeautifulSoup\n",
    "import codecs"
   ]
  },
  {
   "cell_type": "code",
   "execution_count": 2,
   "metadata": {
    "collapsed": true
   },
   "outputs": [],
   "source": [
    "urls = [\"http://www.uta-net.com/artist/5555/\"]"
   ]
  },
  {
   "cell_type": "code",
   "execution_count": 3,
   "metadata": {
    "collapsed": true
   },
   "outputs": [],
   "source": [
    "class LyricSheet(object):\n",
    "    \"\"\"\n",
    "    歌詞\n",
    "    \"\"\"\n",
    "    def __init__(self, title, song_id):\n",
    "        self.title = title\n",
    "        self.song_id = song_id\n",
    "        \n",
    "    @property\n",
    "    def url(self):\n",
    "        _base = 'http://www.uta-net.com/user/phplib/svg/showkasi.php?ID={}'\n",
    "        return _base.format(str(self.song_id))\n",
    "    \n",
    "    def get_lyric(self):\n",
    "        res = requests.get(self.url)\n",
    "        soup = BeautifulSoup(res.text, \"xml\")\n",
    "        \n",
    "        text_list = soup.find_all(\"text\")\n",
    "        lyrics = []\n",
    "        for text in text_list:\n",
    "            _lyric = text.string\n",
    "            if _lyric is not None:\n",
    "                lyrics.append(_lyric)\n",
    "            \n",
    "        return \"\\n\".join(lyrics).encode(\"utf-8\")"
   ]
  },
  {
   "cell_type": "code",
   "execution_count": 4,
   "metadata": {
    "collapsed": false
   },
   "outputs": [],
   "source": [
    "res = requests.get(urls[0])\n",
    "soup = BeautifulSoup(res.text.encode(res.encoding), \"html.parser\")\n",
    "tbodys = soup.find_all(\"tbody\")\n",
    "songs = []\n",
    "\n",
    "for tbody in tbodys:\n",
    "    tds = tbody.find_all(\"td\")\n",
    "    for td in tds:\n",
    "        if td.a:\n",
    "            _url = td.a['href']\n",
    "            if \"song\" in _url:\n",
    "                _song_id = _url.replace('/', '').replace('song', '')\n",
    "                songs.append(LyricSheet(td.a.text, _song_id))\n",
    "                \n",
    "for song in songs:\n",
    "    with open(\"./data/\" + song.title + \".txt\", 'w') as text:\n",
    "                text.write(song.get_lyric())"
   ]
  },
  {
   "cell_type": "code",
   "execution_count": 5,
   "metadata": {
    "collapsed": false
   },
   "outputs": [
    {
     "name": "stdout",
     "output_type": "stream",
     "text": [
      "キミをどんなに想い続けても\n",
      "あたしにできることなんかなくて\n",
      "夕焼けみたいに沈む気持ちを\n",
      "胸にしまいこむ\n",
      "それがどんなに意味のないことで\n",
      "一つも変わることがなくても\n",
      "一緒に笑い合える関係\n",
      "それを守りたい\n",
      "願うなら　さよなら　と　笑えるより\n",
      "寂しいねって　いってくれるよな　そんなふたりがいい\n",
      "I still love U 抜け出せない　迷路のよう　見えないドア\n",
      "I can smile 隠してるの　この気持ち　涙に変えて\n",
      "You and me どうしようもない　それはきっと　あたし自身\n",
      "rescue me なんていえない　目を閉じて　眠りにつく\n",
      "あまり連絡がこないときでも\n",
      "あたしにできることなんかなくて\n",
      "曇り空みたいなこの気持ちを\n",
      "胸にしまいこむ\n",
      "震えた気がして電話を見て\n",
      "気のせいだとがっかりしたりもして\n",
      "次はいつになるとあえるかな\n",
      "思い続ける\n",
      "願うなら　じゃあまたね　って手を振るより\n",
      "寂しいねって　いってくれるよな　そんなふたりがいい\n",
      "I still love U 抜け出せない　迷路のよう　見えないドア\n",
      "I can smile 隠してるの　この気持ち　涙に変えて\n",
      "You and me どうしようもない　それはきっと　あたし自身\n",
      "rescue me なんていえない　目を閉じて　眠りにつく\n"
     ]
    }
   ],
   "source": [
    "print songs[0].get_lyric()"
   ]
  }
 ],
 "metadata": {
  "kernelspec": {
   "display_name": "Python 2",
   "language": "python",
   "name": "python2"
  },
  "language_info": {
   "codemirror_mode": {
    "name": "ipython",
    "version": 2
   },
   "file_extension": ".py",
   "mimetype": "text/x-python",
   "name": "python",
   "nbconvert_exporter": "python",
   "pygments_lexer": "ipython2",
   "version": "2.7.9"
  }
 },
 "nbformat": 4,
 "nbformat_minor": 0
}
