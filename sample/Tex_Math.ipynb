{
 "cells": [
  {
   "cell_type": "markdown",
   "metadata": {},
   "source": [
    "```\n",
    "$$\n",
    "\\begin{align}\n",
    "\\sum_{k=1}^{\\infty} \\frac{1}{k^2} = \\frac{\\pi^2}{6}\n",
    "\\end{align}\n",
    "$$\n",
    "```"
   ]
  },
  {
   "cell_type": "markdown",
   "metadata": {},
   "source": [
    "$$\n",
    "\\begin{align}\n",
    "\\sum_{k=1}^{\\infty} \\frac{1}{k^2} = \\frac{\\pi^2}{6}\n",
    "\\end{align}\n",
    "$$"
   ]
  },
  {
   "cell_type": "markdown",
   "metadata": {},
   "source": [
    "```\n",
    "$$\n",
    "\\newcommand{\\rot}[1]{\\nabla\\times #1}\n",
    "\\newcommand{\\pdfrac}[2]{\\frac{\\partial #1}{\\partial #2}}\n",
    "\\begin{align}\n",
    "  \\mathbf{D} &= 0 \\\\\\\n",
    "  \\mathbf{B} &= 0 \\\\\\\n",
    "  \\rot{\\mathbf{E}} &= - \\pdfrac{\\mathbf{B}}{t} \\\\\\\n",
    "  \\rot{\\mathbf{H}} &= \\pdfrac{\\mathbf{D}}{t}\n",
    "\\end{align}\n",
    "$$\n",
    "```"
   ]
  },
  {
   "cell_type": "markdown",
   "metadata": {},
   "source": [
    "$$\n",
    "\\newcommand{\\rot}[1]{\\nabla\\times #1}\n",
    "\\newcommand{\\pdfrac}[2]{\\frac{\\partial #1}{\\partial #2}}\n",
    "\\begin{align}\n",
    "  \\mathbf{D} &= 0 \\\\\\\n",
    "  \\mathbf{B} &= 0 \\\\\\\n",
    "  \\rot{\\mathbf{E}} &= - \\pdfrac{\\mathbf{B}}{t} \\\\\\\n",
    "  \\rot{\\mathbf{H}} &= \\pdfrac{\\mathbf{D}}{t}\n",
    "\\end{align}\n",
    "$$"
   ]
  }
 ],
 "metadata": {
  "kernelspec": {
   "display_name": "Python 2",
   "language": "python",
   "name": "python2"
  },
  "language_info": {
   "codemirror_mode": {
    "name": "ipython",
    "version": 2
   },
   "file_extension": ".py",
   "mimetype": "text/x-python",
   "name": "python",
   "nbconvert_exporter": "python",
   "pygments_lexer": "ipython2",
   "version": "2.7.10"
  }
 },
 "nbformat": 4,
 "nbformat_minor": 0
}
