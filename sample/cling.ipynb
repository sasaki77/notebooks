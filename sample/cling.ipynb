{
 "cells": [
  {
   "cell_type": "code",
   "execution_count": 1,
   "metadata": {
    "collapsed": false
   },
   "outputs": [
    {
     "name": "stdout",
     "output_type": "stream",
     "text": []
    }
   ],
   "source": [
    ".rawInput\n",
    "#include <stdio.h>\n",
    "void func(){\n",
    "    printf(\"heelo world\\n\");\n",
    "}\n",
    ".rawInput"
   ]
  },
  {
   "cell_type": "code",
   "execution_count": 2,
   "metadata": {
    "collapsed": false
   },
   "outputs": [
    {
     "name": "stdout",
     "output_type": "stream",
     "text": [
      "heelo world\r\n"
     ]
    }
   ],
   "source": [
    "func();"
   ]
  }
 ],
 "metadata": {
  "kernelspec": {
   "display_name": "C++",
   "language": "",
   "name": "cling"
  },
  "language_info": {
   "codemirror_mode": "text/x-c++src",
   "file_extension": ".c++",
   "mimetype": " text/x-c++src",
   "name": "c++"
  }
 },
 "nbformat": 4,
 "nbformat_minor": 0
}
