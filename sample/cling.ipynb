{
 "cells": [
  {
   "cell_type": "code",
   "execution_count": 1,
   "metadata": {
    "collapsed": false
   },
   "outputs": [
    {
     "name": "stdout",
     "output_type": "stream",
     "text": []
    }
   ],
   "source": [
    ".rawInput\n",
    "#include <stdio.h>\n",
    "void func(){\n",
    "    printf(\"hello world\\n\");\n",
    "}\n",
    ".rawInput"
   ]
  },
  {
   "cell_type": "code",
   "execution_count": 2,
   "metadata": {
    "collapsed": false
   },
   "outputs": [
    {
     "name": "stdout",
     "output_type": "stream",
     "text": [
      "hello world\r\n"
     ]
    }
   ],
   "source": [
    "func();"
   ]
  },
  {
   "cell_type": "code",
   "execution_count": 3,
   "metadata": {
    "collapsed": false
   },
   "outputs": [
    {
     "name": "stdout",
     "output_type": "stream",
     "text": []
    }
   ],
   "source": [
    "auto a = 1;\n",
    "auto b = 1.0;\n",
    "auto c = \"1\";"
   ]
  },
  {
   "cell_type": "code",
   "execution_count": 4,
   "metadata": {
    "collapsed": false
   },
   "outputs": [
    {
     "name": "stdout",
     "output_type": "stream",
     "text": [
      "\r\n",
      "i\r\n",
      "d\r\n",
      "PKc\r\n"
     ]
    }
   ],
   "source": [
    "#include <iostream>\n",
    "#include <typeinfo>\n",
    "using namespace std;\n",
    "\n",
    "cout << typeid(a).name() << endl;\n",
    "cout << typeid(b).name() << endl;\n",
    "cout << typeid(c).name() << endl;"
   ]
  },
  {
   "cell_type": "code",
   "execution_count": 5,
   "metadata": {
    "collapsed": false
   },
   "outputs": [
    {
     "name": "stdout",
     "output_type": "stream",
     "text": [
      "\r\n",
      "\r\n",
      "bool is b\r\n",
      "char is c\r\n",
      "uchar is h\r\n",
      "short is s\r\n",
      "ushort is t\r\n",
      "int is i\r\n",
      "uint is j\r\n",
      "long is l\r\n",
      "ulong is m\r\n",
      "longlong is x\r\n",
      "ulonglong is y\r\n",
      "float is f\r\n",
      "double is d\r\n",
      "longdouble is e\r\n",
      "string is NSt7__cxx1112basic_stringIcSt11char_traitsIcESaIcEEE\r\n",
      "int[] is A_i\r\n",
      "double[] is A_d\r\n",
      "int* is Pi\r\n",
      "double* is Pd\r\n",
      "vector<int> is St6vectorIiSaIiEE\r\n",
      "set<int> is St3setIiSt4lessIiESaIiEE\r\n",
      "pair<int, int> is St4pairIiiE\r\n",
      "map<int, int> is St3mapIiiSt4lessIiESaISt4pairIKiiEEE\r\n",
      "stack<int> is St5stackIiSt5dequeIiSaIiEEE\r\n",
      "queue<int> is St5queueIiSt5dequeIiSaIiEEE\r\n",
      "deque<int> is St5dequeIiSaIiEE\r\n",
      "priority_queue is St14priority_queueIiSt6vectorIiSaIiEESt4lessIiEE\r\n",
      "tuple is St5tupleIJiiiiEE\r\n",
      "\r\n",
      "St3mapISt4pairIiiESt6vectorISt14priority_queueIiS2_IiSaIiEESt4lessIiEESaIS8_EES6_IS1_ESaIS0_IKS1_SA_EEE\r\n"
     ]
    }
   ],
   "source": [
    "#include <vector>\n",
    "#include <set>\n",
    "#include <utility> //for pair\n",
    "#include <map>\n",
    "#include <stack>\n",
    "#include <queue>\n",
    "#include <deque>\n",
    "#include <tuple>\n",
    "\n",
    "using namespace std;\n",
    "\n",
    "cout << \"bool is \" << typeid(bool).name() << endl;\n",
    "cout << \"char is \" << typeid(char).name() << endl;\n",
    "cout << \"uchar is \" << typeid(unsigned char).name() << endl;\n",
    "cout << \"short is \" << typeid(short).name() << endl;\n",
    "cout << \"ushort is \" << typeid(unsigned short).name() << endl;\n",
    "cout << \"int is \" << typeid(int).name() << endl;\n",
    "cout << \"uint is \" << typeid(unsigned int).name() << endl;\n",
    "cout << \"long is \" << typeid(long).name() << endl;\n",
    "cout << \"ulong is \" << typeid(unsigned long).name() << endl;\n",
    "cout << \"longlong is \" << typeid(long long).name() << endl;\n",
    "cout << \"ulonglong is \" << typeid(unsigned long long).name() << endl;\n",
    "cout << \"float is \" << typeid(float).name() << endl;\n",
    "cout << \"double is \" << typeid(double).name() << endl;\n",
    "cout << \"longdouble is \" << typeid(long double).name() << endl;\n",
    "cout << \"string is \" << typeid(string).name() << endl;\n",
    "cout << \"int[] is \" << typeid(int[]).name() << endl;\n",
    "cout << \"double[] is \" << typeid(double[]).name() << endl;\n",
    "cout << \"int* is \" << typeid(int *).name() << endl;\n",
    "cout << \"double* is \" << typeid(double *).name() << endl;\n",
    "cout << \"vector<int> is \" << typeid(vector<int>).name() << endl;\n",
    "cout << \"set<int> is \" << typeid(set<int>).name() << endl;\n",
    "cout << \"pair<int, int> is \" << typeid(pair<int, int>).name() << endl;\n",
    "cout << \"map<int, int> is \" << typeid(map<int, int>).name() << endl;\n",
    "cout << \"stack<int> is \" << typeid(stack<int>).name() << endl;\n",
    "cout << \"queue<int> is \" << typeid(queue<int>).name() << endl;\n",
    "cout << \"deque<int> is \" << typeid(deque<int>).name() << endl;\n",
    "cout << \"priority_queue is \" << typeid(priority_queue<int>).name() << endl;\n",
    "cout << \"tuple is \" << typeid(tuple<int, int, int, int>).name() << endl;\n",
    "\n",
    "cout << typeid(map< pair<int, int>, vector< priority_queue<int> > >).name() << endl;"
   ]
  }
 ],
 "metadata": {
  "kernelspec": {
   "display_name": "C++",
   "language": "",
   "name": "cling"
  },
  "language_info": {
   "codemirror_mode": "text/x-c++src",
   "file_extension": ".c++",
   "mimetype": " text/x-c++src",
   "name": "c++"
  }
 },
 "nbformat": 4,
 "nbformat_minor": 0
}
