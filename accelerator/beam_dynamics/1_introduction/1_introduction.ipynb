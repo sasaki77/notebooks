{
 "cells": [
  {
   "cell_type": "markdown",
   "metadata": {
    "slideshow": {
     "slide_type": "-"
    }
   },
   "source": [
    "# 第1章　イントロダクション"
   ]
  },
  {
   "cell_type": "markdown",
   "metadata": {},
   "source": [
    "## 電子貯蔵リングとはどのようなものか"
   ]
  },
  {
   "cell_type": "markdown",
   "metadata": {},
   "source": [
    "### 電子貯蔵リングの基本的な構成\n",
    "\n",
    "#### 電子貯蔵リングの定義\n",
    "\n",
    "「多数個の高エネルギーの電子、又は陽電子を、おおむね丸く閉じた軌道上（又はその近傍）を（ほぼ）一定のエネルギーで周回させ、その状態を出来るだけ長時間保つことにより、それらの電子（又は陽電子）をビームの形で貯蔵することを目的とするマシンである」\n",
    "\n",
    "#### ビームとは\n",
    "「粒子の集団または波長の短い波が共通の進行方向（進路上の位置によって変わってもよい）を持って、細い流れとなって進行するもの。」（岩波理化学辞典第3版）\n",
    "\n",
    "#### 電子のエネルギー\n",
    "- 東大原子核研究所 SOR-RING（世界最初の放射光実験専用リング、1974年） 0.38GeV\n",
    "- CERN LEP 約50GeV\n",
    "\n",
    "高エネルギーの電子は0.38GeV〜程度。\n",
    "\n",
    "#### 電子の数\n",
    "電子はリング内に一様に分布するのではなく、以下の図のように塊となって運動している。この塊をバンチと呼ぶ。\n",
    "\n",
    "一般的なバンチの数：1〜数千個\n",
    "\n",
    "1バンチの電子の数：$10^{9}$〜$10^{12}$個\n",
    "\n",
    "リング内を周回する電子の量を示すときは通常（DC）電流値を用いる。\n",
    "\n",
    "物理実験においては実際の数よりも電流値のほうが重要であるため、マシンパラメータとしては電流値を使用するのが一般的である。"
   ]
  },
  {
   "cell_type": "markdown",
   "metadata": {},
   "source": [
    "<img  src=\"electron_bunch.png\"/>"
   ]
  },
  {
   "cell_type": "markdown",
   "metadata": {},
   "source": [
    "#### 電子の寿命\n",
    "\n",
    "#### 電子貯蔵リングの基本的な構成\n",
    "##### 偏向電磁石\n",
    "\n",
    "##### 収束電磁石\n",
    "\n",
    "##### 高周波加速空洞\n",
    "\n",
    "##### 放射減衰と放射励起\n",
    "\n",
    "##### 高真空"
   ]
  }
 ],
 "metadata": {
  "kernelspec": {
   "display_name": "Python 2",
   "language": "python",
   "name": "python2"
  },
  "language_info": {
   "codemirror_mode": {
    "name": "ipython",
    "version": 2
   },
   "file_extension": ".py",
   "mimetype": "text/x-python",
   "name": "python",
   "nbconvert_exporter": "python",
   "pygments_lexer": "ipython2",
   "version": "2.7.9"
  }
 },
 "nbformat": 4,
 "nbformat_minor": 0
}
